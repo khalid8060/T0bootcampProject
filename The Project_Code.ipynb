{
 "cells": [
  {
   "cell_type": "code",
   "execution_count": 100,
   "id": "f65c192c",
   "metadata": {},
   "outputs": [],
   "source": [
    "import matplotlib.pyplot as plt\n",
    "import pandas as pd\n",
    "import matplotlib.dates as mpl_dates\n",
    "import numpy as np\n",
    "import matplotlib.pyplot as plt\n",
    "from pandas.tseries.holiday import USFederalHolidayCalendar as calendar\n",
    "from IPython.display import HTML\n",
    "from pandas.api.types import CategoricalDtype\n",
    "import squarify # pip install squarify\n",
    "from sklearn.impute import SimpleImputer\n",
    "from numpy import nan\n",
    "from sklearn.metrics import mean_squared_error \n",
    "from sklearn.metrics import mean_absolute_error\n",
    "from sklearn.metrics import max_error\n",
    "from sklearn.metrics import median_absolute_error\n",
    "from sklearn.metrics import r2_score\n",
    "from sklearn.impute import KNNImputer"
   ]
  },
  {
   "cell_type": "code",
   "execution_count": 101,
   "id": "c62ee395",
   "metadata": {},
   "outputs": [
    {
     "name": "stdout",
     "output_type": "stream",
     "text": [
      "<class 'pandas.core.frame.DataFrame'>\n",
      "RangeIndex: 8035 entries, 0 to 8034\n",
      "Data columns (total 13 columns):\n",
      " #   Column       Non-Null Count  Dtype  \n",
      "---  ------       --------------  -----  \n",
      " 0   Make         8035 non-null   object \n",
      " 1   Type         8035 non-null   object \n",
      " 2   Year         8035 non-null   int64  \n",
      " 3   Origin       8035 non-null   object \n",
      " 4   Color        8035 non-null   object \n",
      " 5   Options      8035 non-null   object \n",
      " 6   Engine_Size  8035 non-null   float64\n",
      " 7   Fuel_Type    8035 non-null   object \n",
      " 8   Gear_Type    8035 non-null   object \n",
      " 9   Mileage      8035 non-null   int64  \n",
      " 10  Region       8035 non-null   object \n",
      " 11  Price        8035 non-null   int64  \n",
      " 12  Negotiable   8035 non-null   bool   \n",
      "dtypes: bool(1), float64(1), int64(3), object(8)\n",
      "memory usage: 761.3+ KB\n"
     ]
    }
   ],
   "source": [
    "#Reading the CSV file of the Kaggle dataset (Saudi Arabia Used Cars Dataset)\n",
    "df=pd.read_csv('UsedCarsSA_Clean_EN.csv')\n",
    "df.info()"
   ]
  },
  {
   "cell_type": "code",
   "execution_count": 102,
   "id": "a49cba8f",
   "metadata": {},
   "outputs": [
    {
     "data": {
      "text/html": [
       "<div>\n",
       "<style scoped>\n",
       "    .dataframe tbody tr th:only-of-type {\n",
       "        vertical-align: middle;\n",
       "    }\n",
       "\n",
       "    .dataframe tbody tr th {\n",
       "        vertical-align: top;\n",
       "    }\n",
       "\n",
       "    .dataframe thead th {\n",
       "        text-align: right;\n",
       "    }\n",
       "</style>\n",
       "<table border=\"1\" class=\"dataframe\">\n",
       "  <thead>\n",
       "    <tr style=\"text-align: right;\">\n",
       "      <th></th>\n",
       "      <th>Year</th>\n",
       "      <th>Engine_Size</th>\n",
       "      <th>Mileage</th>\n",
       "      <th>Price</th>\n",
       "    </tr>\n",
       "  </thead>\n",
       "  <tbody>\n",
       "    <tr>\n",
       "      <th>count</th>\n",
       "      <td>8035.000000</td>\n",
       "      <td>8035.000000</td>\n",
       "      <td>8.035000e+03</td>\n",
       "      <td>8.035000e+03</td>\n",
       "    </tr>\n",
       "    <tr>\n",
       "      <th>mean</th>\n",
       "      <td>2014.097698</td>\n",
       "      <td>3.287729</td>\n",
       "      <td>1.491488e+05</td>\n",
       "      <td>5.369984e+04</td>\n",
       "    </tr>\n",
       "    <tr>\n",
       "      <th>std</th>\n",
       "      <td>5.757228</td>\n",
       "      <td>1.517747</td>\n",
       "      <td>3.474480e+05</td>\n",
       "      <td>7.198472e+04</td>\n",
       "    </tr>\n",
       "    <tr>\n",
       "      <th>min</th>\n",
       "      <td>1963.000000</td>\n",
       "      <td>1.000000</td>\n",
       "      <td>1.000000e+02</td>\n",
       "      <td>0.000000e+00</td>\n",
       "    </tr>\n",
       "    <tr>\n",
       "      <th>25%</th>\n",
       "      <td>2012.000000</td>\n",
       "      <td>2.000000</td>\n",
       "      <td>3.700000e+04</td>\n",
       "      <td>0.000000e+00</td>\n",
       "    </tr>\n",
       "    <tr>\n",
       "      <th>50%</th>\n",
       "      <td>2016.000000</td>\n",
       "      <td>3.000000</td>\n",
       "      <td>1.019600e+05</td>\n",
       "      <td>3.700000e+04</td>\n",
       "    </tr>\n",
       "    <tr>\n",
       "      <th>75%</th>\n",
       "      <td>2018.000000</td>\n",
       "      <td>4.400000</td>\n",
       "      <td>1.950000e+05</td>\n",
       "      <td>7.375000e+04</td>\n",
       "    </tr>\n",
       "    <tr>\n",
       "      <th>max</th>\n",
       "      <td>2022.000000</td>\n",
       "      <td>9.000000</td>\n",
       "      <td>2.000000e+07</td>\n",
       "      <td>1.150000e+06</td>\n",
       "    </tr>\n",
       "  </tbody>\n",
       "</table>\n",
       "</div>"
      ],
      "text/plain": [
       "              Year  Engine_Size       Mileage         Price\n",
       "count  8035.000000  8035.000000  8.035000e+03  8.035000e+03\n",
       "mean   2014.097698     3.287729  1.491488e+05  5.369984e+04\n",
       "std       5.757228     1.517747  3.474480e+05  7.198472e+04\n",
       "min    1963.000000     1.000000  1.000000e+02  0.000000e+00\n",
       "25%    2012.000000     2.000000  3.700000e+04  0.000000e+00\n",
       "50%    2016.000000     3.000000  1.019600e+05  3.700000e+04\n",
       "75%    2018.000000     4.400000  1.950000e+05  7.375000e+04\n",
       "max    2022.000000     9.000000  2.000000e+07  1.150000e+06"
      ]
     },
     "execution_count": 102,
     "metadata": {},
     "output_type": "execute_result"
    }
   ],
   "source": [
    "#Summurizing the dataframe\n",
    "df.describe()"
   ]
  },
  {
   "cell_type": "code",
   "execution_count": 103,
   "id": "a6009027",
   "metadata": {},
   "outputs": [
    {
     "data": {
      "text/html": [
       "<div>\n",
       "<style scoped>\n",
       "    .dataframe tbody tr th:only-of-type {\n",
       "        vertical-align: middle;\n",
       "    }\n",
       "\n",
       "    .dataframe tbody tr th {\n",
       "        vertical-align: top;\n",
       "    }\n",
       "\n",
       "    .dataframe thead th {\n",
       "        text-align: right;\n",
       "    }\n",
       "</style>\n",
       "<table border=\"1\" class=\"dataframe\">\n",
       "  <thead>\n",
       "    <tr style=\"text-align: right;\">\n",
       "      <th></th>\n",
       "      <th>Make</th>\n",
       "      <th>Type</th>\n",
       "      <th>Year</th>\n",
       "      <th>Origin</th>\n",
       "      <th>Color</th>\n",
       "      <th>Options</th>\n",
       "      <th>Engine_Size</th>\n",
       "      <th>Fuel_Type</th>\n",
       "      <th>Gear_Type</th>\n",
       "      <th>Mileage</th>\n",
       "      <th>Region</th>\n",
       "      <th>Price</th>\n",
       "      <th>Negotiable</th>\n",
       "    </tr>\n",
       "  </thead>\n",
       "  <tbody>\n",
       "    <tr>\n",
       "      <th>0</th>\n",
       "      <td>Chrysler</td>\n",
       "      <td>C300</td>\n",
       "      <td>2018</td>\n",
       "      <td>Saudi</td>\n",
       "      <td>Black</td>\n",
       "      <td>Full</td>\n",
       "      <td>5.7</td>\n",
       "      <td>Gas</td>\n",
       "      <td>Automatic</td>\n",
       "      <td>103000</td>\n",
       "      <td>Riyadh</td>\n",
       "      <td>114000</td>\n",
       "      <td>False</td>\n",
       "    </tr>\n",
       "    <tr>\n",
       "      <th>1</th>\n",
       "      <td>Nissan</td>\n",
       "      <td>Patrol</td>\n",
       "      <td>2016</td>\n",
       "      <td>Saudi</td>\n",
       "      <td>White</td>\n",
       "      <td>Full</td>\n",
       "      <td>4.8</td>\n",
       "      <td>Gas</td>\n",
       "      <td>Automatic</td>\n",
       "      <td>5448</td>\n",
       "      <td>Riyadh</td>\n",
       "      <td>0</td>\n",
       "      <td>True</td>\n",
       "    </tr>\n",
       "    <tr>\n",
       "      <th>2</th>\n",
       "      <td>Nissan</td>\n",
       "      <td>Sunny</td>\n",
       "      <td>2019</td>\n",
       "      <td>Saudi</td>\n",
       "      <td>Silver</td>\n",
       "      <td>Standard</td>\n",
       "      <td>1.5</td>\n",
       "      <td>Gas</td>\n",
       "      <td>Automatic</td>\n",
       "      <td>72418</td>\n",
       "      <td>Riyadh</td>\n",
       "      <td>27500</td>\n",
       "      <td>False</td>\n",
       "    </tr>\n",
       "    <tr>\n",
       "      <th>3</th>\n",
       "      <td>Hyundai</td>\n",
       "      <td>Elantra</td>\n",
       "      <td>2019</td>\n",
       "      <td>Saudi</td>\n",
       "      <td>Grey</td>\n",
       "      <td>Standard</td>\n",
       "      <td>1.6</td>\n",
       "      <td>Gas</td>\n",
       "      <td>Automatic</td>\n",
       "      <td>114154</td>\n",
       "      <td>Riyadh</td>\n",
       "      <td>43000</td>\n",
       "      <td>False</td>\n",
       "    </tr>\n",
       "    <tr>\n",
       "      <th>4</th>\n",
       "      <td>Hyundai</td>\n",
       "      <td>Elantra</td>\n",
       "      <td>2019</td>\n",
       "      <td>Saudi</td>\n",
       "      <td>Silver</td>\n",
       "      <td>Semi Full</td>\n",
       "      <td>2.0</td>\n",
       "      <td>Gas</td>\n",
       "      <td>Automatic</td>\n",
       "      <td>41912</td>\n",
       "      <td>Riyadh</td>\n",
       "      <td>59500</td>\n",
       "      <td>False</td>\n",
       "    </tr>\n",
       "  </tbody>\n",
       "</table>\n",
       "</div>"
      ],
      "text/plain": [
       "       Make     Type  Year Origin   Color    Options  Engine_Size Fuel_Type  \\\n",
       "0  Chrysler     C300  2018  Saudi   Black       Full          5.7       Gas   \n",
       "1    Nissan   Patrol  2016  Saudi   White       Full          4.8       Gas   \n",
       "2    Nissan    Sunny  2019  Saudi  Silver   Standard          1.5       Gas   \n",
       "3   Hyundai  Elantra  2019  Saudi    Grey   Standard          1.6       Gas   \n",
       "4   Hyundai  Elantra  2019  Saudi  Silver  Semi Full          2.0       Gas   \n",
       "\n",
       "   Gear_Type  Mileage  Region   Price  Negotiable  \n",
       "0  Automatic   103000  Riyadh  114000       False  \n",
       "1  Automatic     5448  Riyadh       0        True  \n",
       "2  Automatic    72418  Riyadh   27500       False  \n",
       "3  Automatic   114154  Riyadh   43000       False  \n",
       "4  Automatic    41912  Riyadh   59500       False  "
      ]
     },
     "execution_count": 103,
     "metadata": {},
     "output_type": "execute_result"
    }
   ],
   "source": [
    "#Print the first five rows of the dataframe\n",
    "df.head()"
   ]
  },
  {
   "cell_type": "markdown",
   "id": "6e54474b",
   "metadata": {},
   "source": [
    "# Data Analysis and exploration \n",
    "Here I will explore and analyze the used cars data in order to know the data well and try to produce some insights"
   ]
  },
  {
   "cell_type": "code",
   "execution_count": 105,
   "id": "1e9abd36",
   "metadata": {},
   "outputs": [
    {
     "data": {
      "image/png": "[encoded data removed]",
      "text/plain": [
       "<Figure size 1080x576 with 1 Axes>"
      ]
     },
     "metadata": {
      "needs_background": "light"
     },
     "output_type": "display_data"
    }
   ],
   "source": [
    "# Get 20 most common used car barnd in the dataset\n",
    "most_common_car_brand = df['Make'].value_counts()[0:20].sort_values()\n",
    "most_common_car_brand.values\n",
    "\n",
    "#Get the indeies of the car_brand\n",
    "car_brand = most_common_car_brand.index\n",
    "#Get the values of the car_brand rows\n",
    "counts = most_common_car_brand.values\n",
    "\n",
    "#Draw the figure with determine the width and height of the figure\n",
    "fig = plt.figure(figsize = (15, 8))\n",
    "\n",
    "#Creating bar plot hirozentaly\n",
    "plt.barh(Car_total, counts, align='center', alpha=0.9, color='orange')\n",
    "plt.yticks(Car_total, car_brand)\n",
    "plt.xlabel('Number of cars')\n",
    "plt.ylabel('Car Brand')\n",
    "plt.title(\"Top 20 Used Car Brand in Saudi Arabia\",fontsize=18, fontweight='bold')\n",
    "plt.show()"
   ]
  },
  {
   "cell_type": "code",
   "execution_count": 106,
   "id": "18b32949",
   "metadata": {},
   "outputs": [
    {
     "data": {
      "image/png": "[encoded data removed]",
      "text/plain": [
       "<Figure size 1080x576 with 1 Axes>"
      ]
     },
     "metadata": {
      "needs_background": "light"
     },
     "output_type": "display_data"
    }
   ],
   "source": [
    "# Get 10 most common used car type in the dataset\n",
    "most_common_car_type = df['Type'].value_counts()[0:10].sort_values()\n",
    "most_common_car_type.values\n",
    "\n",
    "#Finding the indices and the values of the 10 most common used cars \n",
    "car_type = most_common_car_type.index\n",
    "counts = most_common_car_type.values\n",
    "\n",
    "#Determine the figuer width and height\n",
    "fig = plt.figure(figsize = (15, 8))\n",
    "\n",
    "# creating the bar plot\n",
    "plt.bar(car_type, counts, color ='green', width = 0.4)\n",
    "plt.xlabel(\"Car Type\")\n",
    "plt.ylabel(\"Number of cars\")\n",
    "plt.title(\"Top 10 Used Car Types in Saudi Arabia\",fontsize=18, fontweight='bold')\n",
    "plt.show()"
   ]
  },
  {
   "cell_type": "code",
   "execution_count": 107,
   "id": "5374beff",
   "metadata": {},
   "outputs": [
    {
     "data": {
      "image/png": "[encoded data removed]",
      "text/plain": [
       "<Figure size 1080x576 with 1 Axes>"
      ]
     },
     "metadata": {
      "needs_background": "light"
     },
     "output_type": "display_data"
    }
   ],
   "source": [
    "#Most 10 common used car color in the dataset\n",
    "most_common_color = df['Color'].value_counts()[0:10].sort_values()\n",
    "most_common_color.values\n",
    "\n",
    "#Finding the indices and the values of the 10 most common used cars colors\n",
    "car_color = most_common_color.index\n",
    "counts = most_common_color.values\n",
    "#Determine the colors  of the bars Because I run it before and I knew the color of each bar\n",
    "colors= ['Navy', 'blue', 'gold', 'red', 'brown','darkorchid','grey','silver','black','white']\n",
    "#Determine the figuer width and height\n",
    "fig = plt.figure(figsize = (15, 8))\n",
    "# creating the bar plot\n",
    "plt.bar(car_color, counts, color =colors,width = 0.4, edgecolor = 'black')\n",
    "plt.xlabel(\"Colors\")\n",
    "plt.ylabel(\"Number of cars\")\n",
    "plt.title(\"Top 10 Used car colors in Saudi Arabia\",fontsize=18, fontweight='bold')\n",
    "plt.show()\n"
   ]
  },
  {
   "cell_type": "code",
   "execution_count": 108,
   "id": "05da779f",
   "metadata": {},
   "outputs": [
    {
     "data": {
      "image/png": "[encoded data removed]",
      "text/plain": [
       "<Figure size 1080x576 with 1 Axes>"
      ]
     },
     "metadata": {},
     "output_type": "display_data"
    }
   ],
   "source": [
    "#Most 10 common regions of Saudi Arabia showed used cars for sale\n",
    "most_common_region = df['Region'].value_counts()[0:10].sort_values()\n",
    "most_common_region.values\n",
    "\n",
    "#Finding the indices and the values of the 10 most common regions\n",
    "car_region = most_common_region.index\n",
    "counts = most_common_region.values\n",
    "#Determine the figuer width and height\n",
    "fig = plt.figure(figsize = (15, 8))\n",
    "#Creating pie chart of the most common regions\n",
    "plt.title('Top 10 Regions Sell Used Cars',fontsize=18, fontweight='bold')\n",
    "plt.pie(counts, labels = car_region)\n",
    "\n",
    "plt.show() "
   ]
  },
  {
   "cell_type": "code",
   "execution_count": 109,
   "id": "ddd3e2ba",
   "metadata": {},
   "outputs": [
    {
     "data": {
      "image/png": "[encoded data removed]",
      "text/plain": [
       "<Figure size 864x864 with 1 Axes>"
      ]
     },
     "metadata": {
      "needs_background": "light"
     },
     "output_type": "display_data"
    }
   ],
   "source": [
    "#Distribution of used car barnd in the dataset\n",
    "most_common_car_brand = df['Make'].value_counts().sort_values(ascending=False)\n",
    "\n",
    "\n",
    "#Finding the indices and the values of the all of car brands\n",
    "car_brand = most_common_car_brand.index\n",
    "counts = most_common_car_brand.values\n",
    "#Determine the figure height and width\n",
    "fig, ax = plt.subplots(1, figsize = (12,12))\n",
    "#Using Squarify to create a tree map of al car barnds\n",
    "squarify.plot(sizes=counts,label=car_brand[0:20], alpha=.8, text_kwargs={'color':'black', 'size':12})\n",
    "plt.axis('off')\n",
    "plt.show()"
   ]
  },
  {
   "cell_type": "markdown",
   "id": "f64280b9",
   "metadata": {},
   "source": [
    "# Missing Data Imputation\n",
    "Actualy there is no Nan values in the dataset, but there are car with price(0) and (1) and that is not make sense so I am going to deal with these prices. It is important to know the zero value of car's price in the dataset because the owner would like to negotiate the price with the buyer. In order to know which data missing imputer is good for the data, so I will examine four imputers: mean, median, most frequent, and KNN. I created a copy of the dataset and I add two columns \"Missing_Price\" and I chose from column (Type) a car named (Camery) because it has most rows with non zero values. Then, I manually delete random values of the new column which I created \"Missing_Price\" and fit this column in each imputer and see the results of the evaluation methods.\n"
   ]
  },
  {
   "cell_type": "code",
   "execution_count": 98,
   "id": "2be43bb9",
   "metadata": {},
   "outputs": [
    {
     "name": "stdout",
     "output_type": "stream",
     "text": [
      "<class 'pandas.core.frame.DataFrame'>\n",
      "RangeIndex: 55 entries, 0 to 54\n",
      "Data columns (total 16 columns):\n",
      " #   Column         Non-Null Count  Dtype  \n",
      "---  ------         --------------  -----  \n",
      " 0   Column1        55 non-null     int64  \n",
      " 1   Make           55 non-null     object \n",
      " 2   Type           55 non-null     object \n",
      " 3   Year           55 non-null     int64  \n",
      " 4   Origin         55 non-null     object \n",
      " 5   Color          55 non-null     object \n",
      " 6   Options        55 non-null     object \n",
      " 7   Engine_Size    55 non-null     float64\n",
      " 8   Fuel_Type      55 non-null     object \n",
      " 9   Gear_Type      55 non-null     object \n",
      " 10  Mileage        55 non-null     int64  \n",
      " 11  Region         55 non-null     object \n",
      " 12  Price          55 non-null     int64  \n",
      " 13  Negotiable     55 non-null     bool   \n",
      " 14  Missing_Price  41 non-null     float64\n",
      " 15  Mileage_Scale  55 non-null     int64  \n",
      "dtypes: bool(1), float64(2), int64(5), object(8)\n",
      "memory usage: 6.6+ KB\n"
     ]
    }
   ],
   "source": [
    "df4=pd.read_csv('UsedCarsSA_Clean_EN04.csv')\n",
    "df4.info()"
   ]
  },
  {
   "cell_type": "code",
   "execution_count": 110,
   "id": "8af8e04f",
   "metadata": {},
   "outputs": [],
   "source": [
    "#I use the first imputer \"mean\"\n",
    "imputer=SimpleImputer(missing_values=np.nan,strategy='mean')\n",
    "#Fit the missing_price column in the model\n",
    "imr = imputer.fit(df4[['Missing_Price']])\n",
    "df4['Price_mean_Imputation'] = imr.transform(df4[['Missing_Price']]).ravel()"
   ]
  },
  {
   "cell_type": "code",
   "execution_count": 111,
   "id": "a8350e62",
   "metadata": {},
   "outputs": [
    {
     "name": "stdout",
     "output_type": "stream",
     "text": [
      "max error : 71722.36585365853\n",
      "mean squared error : 476574399.9702126\n",
      "root-mean-square error : 21830.58405013967\n",
      "mean_absolute_error: 10067.894456762748\n",
      "R2_score: 0.5845549050487691\n"
     ]
    }
   ],
   "source": [
    "#(y_valid) is the actual price and (preds) is the predicted price\n",
    "y_valid=df4['Price']\n",
    "preds=df4['Price_mean_Imputation']\n",
    "\n",
    "#Max error evaluation method, it evaluates the 'mean' imputer\n",
    "print(\"max error :\", max_error(y_valid,preds))\n",
    "\n",
    "#MSE evaluation method\n",
    "MSE=mean_squared_error(y_valid,preds) \n",
    "print(\"mean squared error :\", MSE)\n",
    "\n",
    "#RMSE evaluation method\n",
    "RMSE=np.sqrt(np.mean(np.power((np.array(y_valid)-np.array(preds)),2)))\n",
    "print(\"root-mean-square error :\", RMSE)\n",
    "\n",
    "#MAE evaluation method\n",
    "MAE=mean_absolute_error(y_valid, preds)\n",
    "print(\"mean_absolute_error:\", MAE)\n",
    "\n",
    "#R^2 Score evaluation method\n",
    "print(\"R2_score:\", r2_score(y_valid,preds))"
   ]
  },
  {
   "cell_type": "code",
   "execution_count": 70,
   "id": "07dd61aa",
   "metadata": {},
   "outputs": [],
   "source": [
    "#I use the second imputer \"median\"\n",
    "imputer=SimpleImputer(missing_values=np.nan,strategy='median')\n",
    "#Fit the data in the model\n",
    "imr = imputer.fit(df4[['Missing_Price']])\n",
    "df4['Price_median_Imputation'] = imr.transform(df4[['Missing_Price']]).ravel()"
   ]
  },
  {
   "cell_type": "code",
   "execution_count": 71,
   "id": "9b2ba636",
   "metadata": {},
   "outputs": [
    {
     "name": "stdout",
     "output_type": "stream",
     "text": [
      "max error : 71000.0\n",
      "mean squared error : 469942909.09090906\n",
      "root-mean-square error : 21678.16664505809\n",
      "mean_absolute_error: 9989.09090909091\n",
      "R2_score: 0.5903357870226908\n"
     ]
    }
   ],
   "source": [
    "#(y_valid) is the actual price and (preds) is the predicted price\n",
    "y_valid=df4['Price']\n",
    "preds=df4['Price_median_Imputation']\n",
    "\n",
    "\n",
    "print(\"max error :\", max_error(y_valid,preds))\n",
    "\n",
    "MSE=mean_squared_error(y_valid,preds) \n",
    "print(\"mean squared error :\", MSE)\n",
    "RMSE=np.sqrt(np.mean(np.power((np.array(y_valid)-np.array(preds)),2)))\n",
    "\n",
    "print(\"root-mean-square error :\", RMSE)\n",
    "MAE=mean_absolute_error(y_valid, preds)\n",
    "\n",
    "print(\"mean_absolute_error:\", MAE)\n",
    "\n",
    "\n",
    "print(\"R2_score:\", r2_score(y_valid,preds))"
   ]
  },
  {
   "cell_type": "code",
   "execution_count": 72,
   "id": "b9282b76",
   "metadata": {},
   "outputs": [],
   "source": [
    "#I use the second imputer \"most frequent\"\n",
    "imputer=SimpleImputer(missing_values=np.nan,strategy='most_frequent')\n",
    "#Training the model\n",
    "imr = imputer.fit(df4[['Missing_Price']])\n",
    "df4['Price_most_Frequent_Imputation'] = imr.transform(df4[['Missing_Price']]).ravel()"
   ]
  },
  {
   "cell_type": "code",
   "execution_count": 73,
   "id": "d771824f",
   "metadata": {},
   "outputs": [
    {
     "name": "stdout",
     "output_type": "stream",
     "text": [
      "max error : 71000.0\n",
      "mean squared error : 469942909.09090906\n",
      "root-mean-square error : 21678.16664505809\n",
      "mean_absolute_error: 9989.09090909091\n",
      "R2_score: 0.5903357870226908\n"
     ]
    }
   ],
   "source": [
    "#(y_valid) is the actual price and (preds) is the predicted price\n",
    "y_valid=df4['Price']\n",
    "preds=df4['Price_most_Frequent_Imputation']\n",
    "\n",
    "\n",
    "print(\"max error :\", max_error(y_valid,preds))\n",
    "\n",
    "MSE=mean_squared_error(y_valid,preds) \n",
    "print(\"mean squared error :\", MSE)\n",
    "RMSE=np.sqrt(np.mean(np.power((np.array(y_valid)-np.array(preds)),2)))\n",
    "\n",
    "print(\"root-mean-square error :\", RMSE)\n",
    "MAE=mean_absolute_error(y_valid, preds)\n",
    "\n",
    "print(\"mean_absolute_error:\", MAE)\n",
    "\n",
    "\n",
    "print(\"R2_score:\", r2_score(y_valid,preds))"
   ]
  },
  {
   "cell_type": "code",
   "execution_count": 84,
   "id": "9422440e",
   "metadata": {},
   "outputs": [],
   "source": [
    "##I use the second imputer \"KNN\"\n",
    "from sklearn.impute import KNNImputer\n",
    "imputer=KNNImputer(n_neighbors=3, weights=\"uniform\")\n",
    "imr = imputer.fit(df4[['Missing_Price']])\n",
    "df4['Price_KNN_Imputation'] = imr.transform(df4[['Missing_Price']]).ravel()"
   ]
  },
  {
   "cell_type": "code",
   "execution_count": 85,
   "id": "28330661",
   "metadata": {},
   "outputs": [
    {
     "name": "stdout",
     "output_type": "stream",
     "text": [
      "max error : 71722.36585365853\n",
      "mean squared error : 476574399.9702126\n",
      "root-mean-square error : 21830.58405013967\n",
      "mean_absolute_error: 10067.894456762748\n",
      "R2_score: 0.5845549050487691\n"
     ]
    }
   ],
   "source": [
    "#(y_valid) is the actual price and (preds) is the predicted price\n",
    "y_valid=df4['Price']\n",
    "preds=df4['Price_KNN_Imputation']\n",
    "\n",
    "\n",
    "print(\"max error :\", max_error(y_valid,preds))\n",
    "\n",
    "MSE=mean_squared_error(y_valid,preds) \n",
    "print(\"mean squared error :\", MSE)\n",
    "RMSE=np.sqrt(np.mean(np.power((np.array(y_valid)-np.array(preds)),2)))\n",
    "\n",
    "print(\"root-mean-square error :\", RMSE)\n",
    "MAE=mean_absolute_error(y_valid, preds)\n",
    "\n",
    "print(\"mean_absolute_error:\", MAE)\n",
    "\n",
    "\n",
    "print(\"R2_score:\", r2_score(y_valid,preds))"
   ]
  }
 ],
 "metadata": {
  "kernelspec": {
   "display_name": "Python 3 (ipykernel)",
   "language": "python",
   "name": "python3"
  },
  "language_info": {
   "codemirror_mode": {
    "name": "ipython",
    "version": 3
   },
   "file_extension": ".py",
   "mimetype": "text/x-python",
   "name": "python",
   "nbconvert_exporter": "python",
   "pygments_lexer": "ipython3",
   "version": "3.8.5"
  }
 },
 "nbformat": 4,
 "nbformat_minor": 5
}
